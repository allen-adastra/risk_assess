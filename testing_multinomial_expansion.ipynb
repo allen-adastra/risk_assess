{
 "cells": [
  {
   "cell_type": "code",
   "execution_count": 6,
   "metadata": {},
   "outputs": [],
   "source": [
    "import itertools"
   ]
  },
  {
   "cell_type": "code",
   "execution_count": 12,
   "metadata": {},
   "outputs": [],
   "source": [
    "# Python3 program to find out all \n",
    "# combinations of positive  \n",
    "# numbers that add upto given number \n",
    "  \n",
    "# arr - array to store the combination \n",
    "# index - next location in array \n",
    "# num - given number \n",
    "# reducedNum - reduced number  \n",
    "def findCombinationsUtil(arr, index, num, \n",
    "                              reducedNum): \n",
    "  \n",
    "    # Base condition \n",
    "    if (reducedNum < 0): \n",
    "        return; \n",
    "  \n",
    "    # If combination is  \n",
    "    # found, print it \n",
    "    if (reducedNum == 0): \n",
    "  \n",
    "        for i in range(index): \n",
    "            print(arr[i], end = \" \"); \n",
    "        print(\"\"); \n",
    "        return; \n",
    "  \n",
    "    # Find the previous number stored in arr[].  \n",
    "    # It helps in maintaining increasing order \n",
    "    prev = 1 if(index == 0) else arr[index - 1]; \n",
    "  \n",
    "    # note loop starts from previous  \n",
    "    # number i.e. at array location \n",
    "    # index - 1 \n",
    "    for k in range(prev, num + 1): \n",
    "          \n",
    "        # next element of array is k \n",
    "        arr[index] = k; \n",
    "  \n",
    "        # call recursively with \n",
    "        # reduced number \n",
    "        findCombinationsUtil(arr, index + 1, num,  \n",
    "                                 reducedNum - k); \n",
    "  \n",
    "# Function to find out all  \n",
    "# combinations of positive numbers  \n",
    "# that add upto given number. \n",
    "# It uses findCombinationsUtil()  \n",
    "def findCombinations(n): \n",
    "      \n",
    "    # array to store the combinations \n",
    "    # It can contain max n elements \n",
    "    arr = [0] * n; \n",
    "  \n",
    "    # find all combinations \n",
    "    findCombinationsUtil(arr, 0, n, n); "
   ]
  },
  {
   "cell_type": "code",
   "execution_count": 14,
   "metadata": {},
   "outputs": [
    {
     "name": "stdout",
     "output_type": "stream",
     "text": [
      "1 1 \n",
      "2 \n"
     ]
    },
    {
     "ename": "TypeError",
     "evalue": "'NoneType' object is not iterable",
     "output_type": "error",
     "traceback": [
      "\u001b[0;31m---------------------------------------------------------------------------\u001b[0m",
      "\u001b[0;31mTypeError\u001b[0m                                 Traceback (most recent call last)",
      "\u001b[0;32m<ipython-input-14-710880d23d21>\u001b[0m in \u001b[0;36m<module>\u001b[0;34m()\u001b[0m\n\u001b[1;32m     12\u001b[0m \u001b[0;34m\u001b[0m\u001b[0m\n\u001b[1;32m     13\u001b[0m \u001b[0mpossible_nonzero_combos\u001b[0m \u001b[0;34m=\u001b[0m \u001b[0mfindCombinations\u001b[0m\u001b[0;34m(\u001b[0m\u001b[0;36m2\u001b[0m\u001b[0;34m)\u001b[0m\u001b[0;34m\u001b[0m\u001b[0m\n\u001b[0;32m---> 14\u001b[0;31m \u001b[0;32mfor\u001b[0m \u001b[0mcombo\u001b[0m \u001b[0;32min\u001b[0m \u001b[0mpossible_nonzero_combos\u001b[0m\u001b[0;34m:\u001b[0m\u001b[0;34m\u001b[0m\u001b[0m\n\u001b[0m\u001b[1;32m     15\u001b[0m     \u001b[0mprint\u001b[0m\u001b[0;34m(\u001b[0m\u001b[0mpossible_nonzero_combos\u001b[0m\u001b[0;34m)\u001b[0m\u001b[0;34m\u001b[0m\u001b[0m\n\u001b[1;32m     16\u001b[0m \u001b[0;34m\u001b[0m\u001b[0m\n",
      "\u001b[0;31mTypeError\u001b[0m: 'NoneType' object is not iterable"
     ]
    }
   ],
   "source": [
    "def multinomial_coef(lst):\n",
    "    res, i = 1, 1\n",
    "    for a in lst:\n",
    "        for j in range(1,a+1):\n",
    "            res *= i\n",
    "            res //= j\n",
    "            i += 1\n",
    "    return res\n",
    "\n",
    "\n",
    "non_zero_nums = [1,1]\n",
    "\n",
    "possible_nonzero_combos = findCombinations(2)\n",
    "for combo in possible_nonzero_combos:\n",
    "    print(possible_nonzero_combos)\n",
    "\n",
    "#indicies to place non_zero_nums at\n",
    "list(itertools.combinations([0, 1, 2, 3, 4], 2))"
   ]
  },
  {
   "cell_type": "code",
   "execution_count": null,
   "metadata": {},
   "outputs": [],
   "source": []
  }
 ],
 "metadata": {
  "kernelspec": {
   "display_name": "Python 3",
   "language": "python",
   "name": "python3"
  },
  "language_info": {
   "codemirror_mode": {
    "name": "ipython",
    "version": 3
   },
   "file_extension": ".py",
   "mimetype": "text/x-python",
   "name": "python",
   "nbconvert_exporter": "python",
   "pygments_lexer": "ipython3",
   "version": "3.7.0"
  }
 },
 "nbformat": 4,
 "nbformat_minor": 2
}
