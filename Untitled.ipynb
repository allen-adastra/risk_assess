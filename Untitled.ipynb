{
 "cells": [
  {
   "cell_type": "markdown",
   "metadata": {},
   "source": [
    "# Making An Example for My 09/26 Pres\n"
   ]
  },
  {
   "cell_type": "code",
   "execution_count": 19,
   "metadata": {},
   "outputs": [
    {
     "name": "stdout",
     "output_type": "stream",
     "text": [
      "Coeff number : 1\n",
      "\\cos^{4}{\\left(\\theta_{0} \\right)}\n",
      "Monom number : 1\n",
      "(4, 0)\n",
      "Coeff number : 2\n",
      "4 a_{0} \\cos^{4}{\\left(\\theta_{0} \\right)} + 4 v_{0} \\cos^{4}{\\left(\\theta_{0} \\right)} + 4 x_{0} \\cos^{3}{\\left(\\theta_{0} \\right)}\n",
      "Monom number : 2\n",
      "(3, 0)\n",
      "Coeff number : 3\n",
      "6 a_{0}^{2} \\cos^{4}{\\left(\\theta_{0} \\right)} + 12 a_{0} v_{0} \\cos^{4}{\\left(\\theta_{0} \\right)} + 12 a_{0} x_{0} \\cos^{3}{\\left(\\theta_{0} \\right)} + 6 v_{0}^{2} \\cos^{4}{\\left(\\theta_{0} \\right)} + 12 v_{0} x_{0} \\cos^{3}{\\left(\\theta_{0} \\right)} + 6 x_{0}^{2} \\cos^{2}{\\left(\\theta_{0} \\right)}\n",
      "Monom number : 3\n",
      "(2, 0)\n",
      "Coeff number : 4\n",
      "4 a_{0}^{3} \\cos^{4}{\\left(\\theta_{0} \\right)} + 12 a_{0}^{2} v_{0} \\cos^{4}{\\left(\\theta_{0} \\right)} + 12 a_{0}^{2} x_{0} \\cos^{3}{\\left(\\theta_{0} \\right)} + 12 a_{0} v_{0}^{2} \\cos^{4}{\\left(\\theta_{0} \\right)} + 24 a_{0} v_{0} x_{0} \\cos^{3}{\\left(\\theta_{0} \\right)} + 12 a_{0} x_{0}^{2} \\cos^{2}{\\left(\\theta_{0} \\right)} + 4 v_{0}^{3} \\cos^{4}{\\left(\\theta_{0} \\right)} + 12 v_{0}^{2} x_{0} \\cos^{3}{\\left(\\theta_{0} \\right)} + 12 v_{0} x_{0}^{2} \\cos^{2}{\\left(\\theta_{0} \\right)} + 4 x_{0}^{3} \\cos{\\left(\\theta_{0} \\right)}\n",
      "Monom number : 4\n",
      "(1, 0)\n",
      "Coeff number : 5\n",
      "a_{0}^{4} \\cos^{4}{\\left(\\theta_{0} \\right)} + 4 a_{0}^{3} v_{0} \\cos^{4}{\\left(\\theta_{0} \\right)} + 4 a_{0}^{3} x_{0} \\cos^{3}{\\left(\\theta_{0} \\right)} + 6 a_{0}^{2} v_{0}^{2} \\cos^{4}{\\left(\\theta_{0} \\right)} + 12 a_{0}^{2} v_{0} x_{0} \\cos^{3}{\\left(\\theta_{0} \\right)} + 6 a_{0}^{2} x_{0}^{2} \\cos^{2}{\\left(\\theta_{0} \\right)} + 4 a_{0} v_{0}^{3} \\cos^{4}{\\left(\\theta_{0} \\right)} + 12 a_{0} v_{0}^{2} x_{0} \\cos^{3}{\\left(\\theta_{0} \\right)} + 12 a_{0} v_{0} x_{0}^{2} \\cos^{2}{\\left(\\theta_{0} \\right)} + 4 a_{0} x_{0}^{3} \\cos{\\left(\\theta_{0} \\right)} + v_{0}^{4} \\cos^{4}{\\left(\\theta_{0} \\right)} + 4 v_{0}^{3} x_{0} \\cos^{3}{\\left(\\theta_{0} \\right)} + 6 v_{0}^{2} x_{0}^{2} \\cos^{2}{\\left(\\theta_{0} \\right)} + 4 v_{0} x_{0}^{3} \\cos{\\left(\\theta_{0} \\right)} + x_{0}^{4} + y_{1}^{4} - 1\n",
      "Monom number : 5\n",
      "(0, 0)\n"
     ]
    }
   ],
   "source": [
    "import sympy as sp\n",
    "\n",
    "x0 = sp.Symbol(\"x0\")\n",
    "v0 = sp.Symbol(\"v0\")\n",
    "a0 = sp.Symbol(\"a0\")\n",
    "w0 = sp.Symbol(\"w0\")\n",
    "w1 = sp.Symbol(\"w1\")\n",
    "theta0 = sp.Symbol(\"theta0\")\n",
    "theta1 = sp.Symbol(\"theta1\")\n",
    "y1 = sp.Symbol(\"y1\")\n",
    "y2 = sp.Symbol(\"y2\")\n",
    "\n",
    "p = lambda x,y: x**4 + y**4 - 1\n",
    "\n",
    "x1 = x0 + (v0 + a0 + w0)*sp.cos(theta0)\n",
    "poly = sp.poly(p(x1, y1), [w0, w1])\n",
    "poly_coeffs = poly.coeffs()\n",
    "poly_monoms = poly.monoms()\n",
    "\n",
    "for i in range(len(poly_coeffs)):\n",
    "    print(\"Coeff number : \" + str(i + 1))\n",
    "    print(sp.latex(poly_coeffs[i]))\n",
    "    print(\"Monom number : \" + str(i + 1))\n",
    "    print(poly_monoms[i])"
   ]
  },
  {
   "cell_type": "code",
   "execution_count": 16,
   "metadata": {},
   "outputs": [
    {
     "data": {
      "image/png": "[encoded data removed]",
      "text/plain": [
       "<Figure size 432x288 with 1 Axes>"
      ]
     },
     "metadata": {
      "needs_background": "light"
     },
     "output_type": "display_data"
    }
   ],
   "source": [
    "import time\n",
    "import numpy as np\n",
    "import matplotlib.pyplot as plt\n",
    "\n",
    "\n",
    "center = np.random.normal(0, 0.01, 10000)\n",
    "left = np.random.normal(-0.05, 0.01, 2000)\n",
    "right = np.random.normal(0.05, 0.01, 500)\n",
    "allvals = np.hstack((center, left, right))\n",
    "count, bins, ignored = plt.hist(allvals, 50, density=True)\n",
    "plt.xlabel(\"Change in Steering Angle (radians)\")\n",
    "plt.title(\"Example Gaussian Mixture Model for Steering\")\n",
    "plt.show()"
   ]
  },
  {
   "cell_type": "code",
   "execution_count": 20,
   "metadata": {},
   "outputs": [
    {
     "data": {
      "image/png": "[encoded data removed]",
      "text/plain": [
       "<Figure size 432x288 with 1 Axes>"
      ]
     },
     "metadata": {
      "needs_background": "light"
     },
     "output_type": "display_data"
    },
    {
     "data": {
      "text/plain": [
       "<sympy.plotting.plot.Plot at 0x7f0b450a0e90>"
      ]
     },
     "execution_count": 20,
     "metadata": {},
     "output_type": "execute_result"
    }
   ],
   "source": [
    "from sympy import var, plot_implicit\n",
    "var('x y')\n",
    "plot_implicit(x**4 + 0.1 * y**4 - 1 <= 0)"
   ]
  },
  {
   "cell_type": "code",
   "execution_count": null,
   "metadata": {},
   "outputs": [],
   "source": []
  }
 ],
 "metadata": {
  "kernelspec": {
   "display_name": "Python 3",
   "language": "python",
   "name": "python3"
  },
  "language_info": {
   "codemirror_mode": {
    "name": "ipython",
    "version": 3
   },
   "file_extension": ".py",
   "mimetype": "text/x-python",
   "name": "python",
   "nbconvert_exporter": "python",
   "pygments_lexer": "ipython3",
   "version": "3.7.4"
  }
 },
 "nbformat": 4,
 "nbformat_minor": 2
}
