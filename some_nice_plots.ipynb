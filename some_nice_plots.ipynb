{
 "cells": [
  {
   "cell_type": "markdown",
   "metadata": {},
   "source": [
    "# Making An Example for My 09/26 Pres\n"
   ]
  },
  {
   "cell_type": "code",
   "execution_count": 3,
   "metadata": {},
   "outputs": [
    {
     "name": "stdout",
     "output_type": "stream",
     "text": [
      "Monom number : 1\n",
      "(4, 0)\n",
      "Monom number : 2\n",
      "(3, 1)\n",
      "Monom number : 3\n",
      "(3, 0)\n",
      "Monom number : 4\n",
      "(2, 2)\n",
      "Monom number : 5\n",
      "(2, 1)\n",
      "Monom number : 6\n",
      "(2, 0)\n",
      "Monom number : 7\n",
      "(1, 3)\n",
      "Monom number : 8\n",
      "(1, 2)\n",
      "Monom number : 9\n",
      "(1, 1)\n",
      "Monom number : 10\n",
      "(1, 0)\n",
      "Monom number : 11\n",
      "(0, 4)\n",
      "Monom number : 12\n",
      "(0, 3)\n",
      "Monom number : 13\n",
      "(0, 2)\n",
      "Monom number : 14\n",
      "(0, 1)\n",
      "Monom number : 15\n",
      "(0, 0)\n"
     ]
    }
   ],
   "source": [
    "import sympy as sp\n",
    "\n",
    "x0 = sp.Symbol(\"x0\")\n",
    "v0 = sp.Symbol(\"v0\")\n",
    "a0 = sp.Symbol(\"a0\")\n",
    "a1 = sp.Symbol(\"a1\")\n",
    "w0 = sp.Symbol(\"w0\")\n",
    "w1 = sp.Symbol(\"w1\")\n",
    "theta0 = sp.Symbol(\"theta0\")\n",
    "theta1 = sp.Symbol(\"theta1\")\n",
    "y1 = sp.Symbol(\"y1\")\n",
    "y2 = sp.Symbol(\"y2\")\n",
    "\n",
    "p = lambda x,y: x**4 + y**4 - 1\n",
    "\n",
    "x1 = x0 + (v0 + a0 + w0)*sp.cos(theta0)\n",
    "x2 = x0 + (v0 + a0 + w0)*sp.cos(theta0) + (v0 + a0 + a1 + w0 + w1)*sp.cos(theta1)\n",
    "poly = sp.poly(p(x2, y2), [w0, w1])\n",
    "poly_coeffs = poly.coeffs()\n",
    "poly_monoms = poly.monoms()\n",
    "\n",
    "for i in range(len(poly_coeffs)):\n",
    "#     print(\"Coeff number : \" + str(i + 1))\n",
    "#     print(sp.latex(poly_coeffs[i]))\n",
    "    print(\"Monom number : \" + str(i + 1))\n",
    "    print(poly_monoms[i])"
   ]
  },
  {
   "cell_type": "code",
   "execution_count": 16,
   "metadata": {},
   "outputs": [
    {
     "data": {
      "image/png": "[encoded data removed]",
      "text/plain": [
       "<Figure size 432x288 with 1 Axes>"
      ]
     },
     "metadata": {
      "needs_background": "light"
     },
     "output_type": "display_data"
    }
   ],
   "source": [
    "import time\n",
    "import numpy as np\n",
    "import matplotlib.pyplot as plt\n",
    "\n",
    "\n",
    "center = np.random.normal(0, 0.01, 10000)\n",
    "left = np.random.normal(-0.05, 0.01, 2000)\n",
    "right = np.random.normal(0.05, 0.01, 500)\n",
    "allvals = np.hstack((center, left, right))\n",
    "count, bins, ignored = plt.hist(allvals, 50, density=True)\n",
    "plt.xlabel(\"Change in Steering Angle (radians)\")\n",
    "plt.title(\"Example Gaussian Mixture Model for Steering\")\n",
    "plt.show()"
   ]
  },
  {
   "cell_type": "code",
   "execution_count": 5,
   "metadata": {},
   "outputs": [
    {
     "data": {
      "image/png": "[encoded data removed]",
      "text/plain": [
       "<Figure size 432x288 with 1 Axes>"
      ]
     },
     "metadata": {
      "needs_background": "light"
     },
     "output_type": "display_data"
    },
    {
     "data": {
      "text/plain": [
       "<sympy.plotting.plot.Plot at 0x7f86131ea9d0>"
      ]
     },
     "execution_count": 5,
     "metadata": {},
     "output_type": "execute_result"
    }
   ],
   "source": [
    "from sympy import var, plot_implicit\n",
    "var('x y')\n",
    "plot_implicit(x**2 + 0.1 * y**2 - 1 <= 0)"
   ]
  },
  {
   "cell_type": "code",
   "execution_count": null,
   "metadata": {},
   "outputs": [],
   "source": [
    "compile_times = [1.177, 2.356, 4.212, 6.414, 8.718, 11.974, 15.504, 19.222, 23.705, 29.205, 34.941, 41.396, 48.210]\n",
    "times_to_compute = [0.0004782676696777344, 0.0005948543548583984, ]"
   ]
  }
 ],
 "metadata": {
  "kernelspec": {
   "display_name": "Python 3",
   "language": "python",
   "name": "python3"
  },
  "language_info": {
   "codemirror_mode": {
    "name": "ipython",
    "version": 3
   },
   "file_extension": ".py",
   "mimetype": "text/x-python",
   "name": "python",
   "nbconvert_exporter": "python",
   "pygments_lexer": "ipython3",
   "version": "3.7.4"
  }
 },
 "nbformat": 4,
 "nbformat_minor": 2
}
