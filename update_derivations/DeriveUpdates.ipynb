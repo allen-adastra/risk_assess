{
 "cells": [
  {
   "cell_type": "markdown",
   "metadata": {},
   "source": [
    "The general idea is to "
   ]
  },
  {
   "cell_type": "code",
   "execution_count": 1,
   "metadata": {
    "scrolled": true
   },
   "outputs": [
    {
     "name": "stdout",
     "output_type": "stream",
     "text": [
      "Poly(x_t**2 + 2*x_t*v_t*(cos(theta_t)) + v_t**2*(cos(theta_t))**2, x_t, y_t, v_t, sin(theta_t), cos(theta_t), sin(w_{theta_t}), cos(w_{theta_t}), domain='ZZ')\n",
      "{}\n",
      "{}\n",
      "{}\n",
      "[]\n"
     ]
    }
   ],
   "source": [
    "from IPython.core.interactiveshell import InteractiveShell\n",
    "InteractiveShell.ast_node_interactivity = \"all\"\n",
    "from uncontrolled_car_derivations import UncontrolledCarDerivations\n",
    "\n",
    "deriver = UncontrolledCarDerivations()\n",
    "derived_vars, iters = deriver.derive_second_x()\n",
    "print(derived_vars)\n",
    "for var in derived_vars:\n",
    "    print(\"Update relation for \" + str(var.component_variables_sympy))\n",
    "    print(var.update_relation)"
   ]
  },
  {
   "cell_type": "markdown",
   "metadata": {},
   "source": []
  },
  {
   "cell_type": "code",
   "execution_count": 34,
   "metadata": {},
   "outputs": [
    {
     "name": "stdout",
     "output_type": "stream",
     "text": [
      "[x_t, y_t]\n"
     ]
    }
   ],
   "source": []
  },
  {
   "cell_type": "code",
   "execution_count": null,
   "metadata": {},
   "outputs": [],
   "source": []
  }
 ],
 "metadata": {
  "kernelspec": {
   "display_name": "Python 3",
   "language": "python",
   "name": "python3"
  },
  "language_info": {
   "codemirror_mode": {
    "name": "ipython",
    "version": 3
   },
   "file_extension": ".py",
   "mimetype": "text/x-python",
   "name": "python",
   "nbconvert_exporter": "python",
   "pygments_lexer": "ipython3",
   "version": "3.7.4"
  }
 },
 "nbformat": 4,
 "nbformat_minor": 2
}
