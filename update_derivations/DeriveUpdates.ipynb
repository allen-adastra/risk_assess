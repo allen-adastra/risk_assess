{
 "cells": [
  {
   "cell_type": "markdown",
   "metadata": {},
   "source": [
    "The general idea is to "
   ]
  },
  {
   "cell_type": "code",
   "execution_count": 4,
   "metadata": {
    "scrolled": true
   },
   "outputs": [
    {
     "name": "stdout",
     "output_type": "stream",
     "text": [
      "Poly(x_t**2 + 2*x_t*v_t*(cos(theta_t)) + v_t**2*(cos(theta_t))**2, x_t, y_t, v_t, sin(theta_t), cos(theta_t), sin(w_{theta_t}), cos(w_{theta_t}), domain='ZZ')\n",
      "{}\n",
      "{}\n",
      "{}\n",
      "[]\n"
     ]
    }
   ],
   "source": [
    "from IPython.core.interactiveshell import InteractiveShell\n",
    "InteractiveShell.ast_node_interactivity = \"all\"\n",
    "from uncontrolled_car_derivations import UncontrolledCarDerivations\n",
    "\n",
    "deriver = UncontrolledCarDerivations()\n",
    "derived_vars, iters = deriver.derive_second_x()\n",
    "print(derived_vars)\n",
    "for var in derived_vars:\n",
    "    print(\"Update relation for \" + str(var.component_variables_sympy))\n",
    "    print(var.update_relation)"
   ]
  },
  {
   "cell_type": "markdown",
   "metadata": {},
   "source": []
  },
  {
   "cell_type": "code",
   "execution_count": 5,
   "metadata": {},
   "outputs": [
    {
     "name": "stdout",
     "output_type": "stream",
     "text": [
      "{<automated_update_derivations.BaseVariable object at 0x7ff21e387668>: 2, <automated_update_derivations.BaseVariable object at 0x7ff21e387630>: 4}\n"
     ]
    },
    {
     "ename": "Exception",
     "evalue": "There were variables that need higher moments, but we haven't figured out yet what to do when certain variables need higher moments.",
     "output_type": "error",
     "traceback": [
      "\u001b[0;31m---------------------------------------\u001b[0m",
      "\u001b[0;31mException\u001b[0mTraceback (most recent call last)",
      "\u001b[0;32m<ipython-input-5-bb881c84e4ba>\u001b[0m in \u001b[0;36m<module>\u001b[0;34m\u001b[0m\n\u001b[1;32m      1\u001b[0m \u001b[0mderiver\u001b[0m \u001b[0;34m=\u001b[0m \u001b[0mUncontrolledCarDerivations\u001b[0m\u001b[0;34m(\u001b[0m\u001b[0;34m)\u001b[0m\u001b[0;34m\u001b[0m\u001b[0;34m\u001b[0m\u001b[0m\n\u001b[0;32m----> 2\u001b[0;31m \u001b[0mderived_vars\u001b[0m\u001b[0;34m,\u001b[0m \u001b[0miters\u001b[0m \u001b[0;34m=\u001b[0m \u001b[0mderiver\u001b[0m\u001b[0;34m.\u001b[0m\u001b[0mderive_fourth_x\u001b[0m\u001b[0;34m(\u001b[0m\u001b[0;34m)\u001b[0m\u001b[0;34m\u001b[0m\u001b[0;34m\u001b[0m\u001b[0m\n\u001b[0m",
      "\u001b[0;32m~/plan_verification_rss_2020/plan_verification/update_derivations/uncontrolled_car_derivations.py\u001b[0m in \u001b[0;36mderive_fourth_x\u001b[0;34m(self)\u001b[0m\n\u001b[1;32m     86\u001b[0m         \u001b[0mderived_base_variables_to_check\u001b[0m \u001b[0;34m=\u001b[0m \u001b[0;34m[\u001b[0m\u001b[0mfourth_moment\u001b[0m\u001b[0;34m]\u001b[0m\u001b[0;34m\u001b[0m\u001b[0;34m\u001b[0m\u001b[0m\n\u001b[1;32m     87\u001b[0m         \u001b[0;32mfor\u001b[0m \u001b[0mi\u001b[0m \u001b[0;32min\u001b[0m \u001b[0mrange\u001b[0m\u001b[0;34m(\u001b[0m\u001b[0;36m3\u001b[0m\u001b[0;34m)\u001b[0m\u001b[0;34m:\u001b[0m\u001b[0;34m\u001b[0m\u001b[0;34m\u001b[0m\u001b[0m\n\u001b[0;32m---> 88\u001b[0;31m             \u001b[0mderived_base_variables_to_check\u001b[0m\u001b[0;34m,\u001b[0m \u001b[0mderived_base_variables\u001b[0m \u001b[0;34m=\u001b[0m \u001b[0miterate_relations\u001b[0m\u001b[0;34m(\u001b[0m\u001b[0mderived_base_variables_to_check\u001b[0m\u001b[0;34m,\u001b[0m \u001b[0mself\u001b[0m\u001b[0;34m.\u001b[0m\u001b[0m_base_variables\u001b[0m\u001b[0;34m,\u001b[0m \u001b[0mself\u001b[0m\u001b[0;34m.\u001b[0m\u001b[0m_variable_dependence_graph\u001b[0m\u001b[0;34m,\u001b[0m \u001b[0mderived_base_variables\u001b[0m\u001b[0;34m)\u001b[0m\u001b[0;34m\u001b[0m\u001b[0;34m\u001b[0m\u001b[0m\n\u001b[0m\u001b[1;32m     89\u001b[0m             \u001b[0mprint\u001b[0m\u001b[0;34m(\u001b[0m\u001b[0mderived_base_variables_to_check\u001b[0m\u001b[0;34m)\u001b[0m\u001b[0;34m\u001b[0m\u001b[0;34m\u001b[0m\u001b[0m\n",
      "\u001b[0;32m~/plan_verification_rss_2020/plan_verification/update_derivations/automated_update_derivations.py\u001b[0m in \u001b[0;36miterate_relations\u001b[0;34m(derived_base_vars_to_check, base_variables, variable_dependence_graph, derived_base_vars)\u001b[0m\n",
      "\u001b[0;31mException\u001b[0m: There were variables that need higher moments, but we haven't figured out yet what to do when certain variables need higher moments."
     ]
    }
   ],
   "source": [
    "deriver = UncontrolledCarDerivations()\n",
    "derived_vars, iters = deriver.derive_fourth_x()"
   ]
  },
  {
   "cell_type": "code",
   "execution_count": 8,
   "metadata": {},
   "outputs": [
    {
     "name": "stdout",
     "output_type": "stream",
     "text": [
      "True\n",
      "x*y\n",
      "x*y\n"
     ]
    }
   ],
   "source": [
    "import sympy as sp\n",
    "x = sp.Symbol(\"x\")\n",
    "y = sp.Symbol(\"y\")\n",
    "\n",
    "xy = x * y\n",
    "yx = y * x\n",
    "print(xy == yx)\n",
    "print(xy)\n",
    "print(yx)"
   ]
  },
  {
   "cell_type": "code",
   "execution_count": null,
   "metadata": {},
   "outputs": [],
   "source": []
  }
 ],
 "metadata": {
  "kernelspec": {
   "display_name": "Python 3",
   "language": "python",
   "name": "python3"
  },
  "language_info": {
   "codemirror_mode": {
    "name": "ipython",
    "version": 3
   },
   "file_extension": ".py",
   "mimetype": "text/x-python",
   "name": "python",
   "nbconvert_exporter": "python",
   "pygments_lexer": "ipython3",
   "version": "3.6.8"
  }
 },
 "nbformat": 4,
 "nbformat_minor": 2
}
