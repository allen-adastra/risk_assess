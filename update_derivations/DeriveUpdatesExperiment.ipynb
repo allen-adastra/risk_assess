{
 "cells": [
  {
   "cell_type": "markdown",
   "metadata": {},
   "source": [
    "The general idea is to "
   ]
  },
  {
   "cell_type": "code",
   "execution_count": 2,
   "metadata": {
    "scrolled": true
   },
   "outputs": [
    {
     "name": "stdout",
     "output_type": "stream",
     "text": [
      "[{v_t, x_t, sin(theta_t)}, {v_t, y_t, cos(theta_t)}]\n",
      "[{v_t, x_t, cos(theta_t)}, {v_t, y_t, sin(theta_t)}]\n",
      "[]\n",
      "[{x_t, sin(theta_t)}, {x_t, cos(theta_t)}, {y_t, sin(theta_t)}, {y_t, cos(theta_t)}, {y_t, x_t}, {v_t, x_t, sin(theta_t)}, {v_t, y_t, cos(theta_t)}, {v_t, x_t, cos(theta_t)}, {v_t, y_t, sin(theta_t)}]\n"
     ]
    }
   ],
   "source": [
    "import sympy as sp\n",
    "import networkx as nx\n",
    "sp.init_printing()\n",
    "\n",
    "def check_bad_terms(polynomial, base_variables, dependence_graph, terms_with_generated_relations):\n",
    "    \"\"\"\n",
    "    Args:\n",
    "        polynomial : \n",
    "        base_variables : \n",
    "        dependence_graph : \n",
    "        terms_with_generated_relations : \n",
    "    Returns:\n",
    "        new_update_relations_needed : List of sets of sympy symbols\n",
    "    \"\"\"\n",
    "    new_update_relations_needed = []\n",
    "    for mono in polynomial.monoms():\n",
    "        variables_in_mono = {base_variables[i] for i, e in enumerate(mono) if e != 0}\n",
    "        # Find the graph of variable dependencies for this particular monomial.\n",
    "        mono_dependence_graph = dependence_graph.subgraph(variables_in_mono)\n",
    "        if len(mono_dependence_graph.edges) == 0:\n",
    "            # All variables in this term are independent of each other.\n",
    "            pass\n",
    "        else:\n",
    "            connected_components = nx.connected_components(mono_dependence_graph)\n",
    "            for component in connected_components:\n",
    "                if len(component) > 1 and not any([component == group for group in terms_with_generated_relations]) and component not in new_update_relations_needed:\n",
    "                    new_update_relations_needed.append(component)\n",
    "    return new_update_relations_needed\n",
    "\n",
    "def generate_new_update_relations(need_update_relations, base_variable_updates, base_variables):\n",
    "    \"\"\"\n",
    "    Args:\n",
    "        need_update_relations: list of frozensets of variables\n",
    "        base_variable_updates: \n",
    "        base_variables: \n",
    "    Returns:\n",
    "        new_update_relations\n",
    "    \"\"\"\n",
    "    new_update_relations = []\n",
    "    for new_relation_vars in need_update_relations:\n",
    "        new_relation = 1\n",
    "        for var in new_relation_vars:\n",
    "            new_relation *= base_variable_updates[var]\n",
    "        new_update_relations.append(sp.poly(new_relation, base_variables))\n",
    "    return new_update_relations\n",
    "\n",
    "def iterate_relations(relations_to_check, base_variables, variable_dependence_graph, terms_with_generated_relations):\n",
    "    \"\"\"\n",
    "    Args:\n",
    "        relations_to_check: \n",
    "        base_variables: \n",
    "        variable_dependence_graph: \n",
    "        terms_with_generated_relations: \n",
    "    Returns:\n",
    "        new_relations_to_check\n",
    "        terms_with_generated_relations\n",
    "    \"\"\"\n",
    "    need_update_relations = []\n",
    "    # Given a list of relations to check, generate a new set of relations to check.\n",
    "    for relation in relations_to_check:\n",
    "        temp = check_bad_terms(relation, base_variables, variable_dependence_graph, terms_with_generated_relations)\n",
    "        need_update_relations += temp\n",
    "    print(need_update_relations)\n",
    "    # Eliminate redundant stuff\n",
    "    need_update_relations = {frozenset(s) for s in need_update_relations}\n",
    "    need_update_relations = [set(s) for s in need_update_relations]\n",
    "    \n",
    "    # Generate new relations based off what we have in need_update_relations\n",
    "    new_relations_to_check = generate_new_update_relations(need_update_relations, base_variable_updates, base_variables)\n",
    "    terms_with_generated_relations += need_update_relations\n",
    "    return new_relations_to_check, terms_with_generated_relations\n",
    "    \n",
    "\n",
    "# Declare variables at time \"t\"\n",
    "xt = sp.Symbol(\"x_t\")\n",
    "yt = sp.Symbol(\"y_t\")\n",
    "vt = sp.Symbol(\"v_t\")\n",
    "wvt = sp.Symbol(\"w_{v_t}\")\n",
    "wthetat = sp.Symbol(\"w_{theta_t}\")\n",
    "thetat = sp.Symbol(\"theta_t\")\n",
    "cos_thetat = sp.cos(thetat)\n",
    "sin_thetat = sp.sin(thetat)\n",
    "sin_thetat = sp.sin(thetat)\n",
    "cos_thetat = sp.cos(thetat)\n",
    "sin_wthetat = sp.sin(wthetat)\n",
    "cos_wthetat = sp.cos(wthetat)\n",
    "\n",
    "# Create a list of variables at time \"t\"\n",
    "# Indicies for the variables:\n",
    "# 0 : xt\n",
    "# 1 : yt\n",
    "# 2 : vt\n",
    "# 3 : sin_thetat\n",
    "# 4 : cos_thetat\n",
    "# 5 : sin_wthetat\n",
    "# 6 : cos_wthetat\n",
    "base_variables = [xt, yt, vt, sin_thetat, cos_thetat, sin_wthetat, cos_wthetat]\n",
    "variable_dependence_graph = nx.Graph()\n",
    "variable_dependence_graph.add_nodes_from(base_variables)\n",
    "variable_dependence_graph.add_edges_from([(xt, yt), (xt, vt), (yt, vt), (xt, sin_thetat), (xt, cos_thetat), (yt, sin_thetat), (yt, cos_thetat)])\n",
    "\n",
    "# Expressions we have update relations for.\n",
    "terms_with_generated_relations = [set([xt, sin_thetat]), set([xt, cos_thetat]), set([yt, sin_thetat]), set([yt, cos_thetat])]\n",
    "\n",
    "# Update Relations for Base Variables\n",
    "xtplus1 = xt + vt * cos_thetat\n",
    "ytplus1 = yt + vt * sin_thetat\n",
    "vtplus1 = vt + wvt\n",
    "sin_thetatplus1 = sp.expand_trig(sp.sin(thetat + wthetat))\n",
    "cos_thetatplus1 = sp.expand_trig(sp.cos(thetat + wthetat))\n",
    "base_variable_updates = {}\n",
    "base_variable_updates[xt] = xtplus1\n",
    "base_variable_updates[yt] = ytplus1\n",
    "base_variable_updates[vt] = vtplus1\n",
    "base_variable_updates[sin_thetat] = sin_thetatplus1\n",
    "base_variable_updates[cos_thetat] = cos_thetatplus1\n",
    "\n",
    "# Construct the expression for E[x_{t+1} * y_{t+1}] in terms of expressions at time t\n",
    "cross = sp.poly(xtplus1 * ytplus1, base_variables)\n",
    "terms_with_generated_relations += [set([xt, yt])]\n",
    "\n",
    "i = 0\n",
    "relations_to_check = [cross]\n",
    "\n",
    "while relations_to_check:\n",
    "    relations_to_check, terms_with_generated_relations = iterate_relations(relations_to_check, base_variables, variable_dependence_graph, terms_with_generated_relations)\n",
    "\n",
    "xt_sq = sp.poly(xtplus1 ** 2, base_variables)\n"
   ]
  },
  {
   "cell_type": "markdown",
   "metadata": {},
   "source": [
    "Detect when the \"invalid pair\" is the term we are updating\n",
    "We need to dynamically change the list of bad_var_pairs as we derive new update relations (maybe we should explicitly keep track of the update relations that we actually have instead)...."
   ]
  },
  {
   "cell_type": "code",
   "execution_count": 34,
   "metadata": {},
   "outputs": [
    {
     "name": "stdout",
     "output_type": "stream",
     "text": [
      "[x_t, y_t]\n"
     ]
    }
   ],
   "source": []
  },
  {
   "cell_type": "code",
   "execution_count": null,
   "metadata": {},
   "outputs": [],
   "source": []
  }
 ],
 "metadata": {
  "kernelspec": {
   "display_name": "Python 3",
   "language": "python",
   "name": "python3"
  },
  "language_info": {
   "codemirror_mode": {
    "name": "ipython",
    "version": 3
   },
   "file_extension": ".py",
   "mimetype": "text/x-python",
   "name": "python",
   "nbconvert_exporter": "python",
   "pygments_lexer": "ipython3",
   "version": "3.7.4"
  }
 },
 "nbformat": 4,
 "nbformat_minor": 2
}
