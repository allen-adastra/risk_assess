{
 "cells": [
  {
   "cell_type": "markdown",
   "metadata": {},
   "source": [
    "# Truncated Series Method for MVNQF\n",
    "Implementation of the method to compute the CDF of a MVNQF using a truncated series representation described in: \n",
    "https://reader.elsevier.com/reader/sd/pii/S0167947308005653?token=2CBECC11CD4A4A6EB481FFB9A1CC3226413187AC4274D47A434BBD09279A6CF441F232D25D7E035A2566AC4468729B82\n",
    "\n",
    "The sum of the coefficients give us a bound on error, so the purpose of this notebook is to compute the coefficients and examine how many are needed to get a useful bound on error."
   ]
  },
  {
   "cell_type": "code",
   "execution_count": 67,
   "metadata": {},
   "outputs": [],
   "source": [
    "import numpy as np\n",
    "import scipy.linalg as sla\n",
    "from scipy import random\n",
    "import math"
   ]
  },
  {
   "cell_type": "code",
   "execution_count": 159,
   "metadata": {},
   "outputs": [],
   "source": [
    "def random_psd_matrix(n):\n",
    "    \"\"\"\n",
    "    Generate a random n dimensional PSD matrix.\n",
    "    \"\"\"\n",
    "    random_matrix = random.rand(n, n)\n",
    "    psd_matrix = np.dot(random_matrix, random_matrix.transpose())\n",
    "    return psd_matrix\n",
    "\n",
    "def compute_lambdas_deltas(mux, Sigma, Q, diagonalization_error_tolerance = 1e-10):\n",
    "    \"\"\"\n",
    "    \n",
    "    \"\"\"\n",
    "    \n",
    "    sqrt_Sigma = sla.fractional_matrix_power(Sigma, 0.5)\n",
    "    B = sqrt_Sigma @ Q @ sqrt_Sigma\n",
    "    eigvals, P = np.linalg.eig(B) # P is the matrix of eigenvectors of B\n",
    "    \n",
    "    # Lambda should be a diagonal matrix (non-diagonal entries may be non-zero but tiny due to floating point precision)\n",
    "    Lambda = P.T @ B @ P\n",
    "    lambdas = np.diag(Lambda)\n",
    "    \n",
    "    # Compute deltas\n",
    "    inv_sqrt_Sigma = np.linalg.inv(sqrt_Sigma)\n",
    "    muy = P @ inv_sqrt_Sigma @ mux\n",
    "    deltas = np.square(muy.flatten()) # Elementwise square of muy\n",
    "    \n",
    "    # Test the Lambda is approximately a diagonal matrix\n",
    "    non_diag_entries = Lambda[np.where(~np.eye(Lambda.shape[0],dtype=bool))]\n",
    "    assert max(abs(non_diag_entries)) < diagonalization_error_tolerance\n",
    "    return lambdas, deltas\n",
    "\n",
    "def compute_gk(gammas, gamma_ks, gammas_kminus1, deltas, k):\n",
    "    \"\"\"\n",
    "    Compute g as defined in the paper\n",
    "    \"\"\"\n",
    "    m = len(gamma_ks)\n",
    "    # Compute values that are dependent on k\n",
    "    term2 = k * sum([deltas[i] * gammas_kminus1[i] * (1 - gammas[i]) for i in range(m)])\n",
    "    gk = 0.5 * (sum(gamma_ks) + term2)\n",
    "    return gk\n",
    "\n",
    "def power_matrix(one_d_array, kmax):\n",
    "    \"\"\"\n",
    "    Given a one_d_array, construct a matrix s.t. the ith index of the matrix corresponds to\n",
    "    one_d_array to the power of i. The matrix will have kmax + 1 number of rows\n",
    "    Args:\n",
    "        one_d_array\n",
    "    \"\"\"\n",
    "    one_d_array_powers = np.zeros((kmax + 1, m))\n",
    "    for i in range(kmax + 1):\n",
    "        one_d_array_powers[i] = np.power(one_d_array, i)\n",
    "    return one_d_array_powers\n",
    "    \n",
    "def update_ck(cks, gks, kmax):\n",
    "    \"\"\"\n",
    "    Args:\n",
    "        cks (list of floats): list of coefficients s.t. the ith index corresponds to c_i\n",
    "        gks (list of floats): constant length list s.t. the ith index corresponds to g_i\n",
    "    \"\"\"\n",
    "    k = len(cks)\n",
    "    if k >= kmax:\n",
    "        return\n",
    "    ck = (1.0/k) * sum([gks[k - r] * cks[r] for r in range(k)])\n",
    "    cks.append(ck)\n",
    "    update_ck(cks, gks, kmax)\n",
    "    return\n",
    "\n",
    "def compute_series_coefficients(mux, Sigma, Q, kmax):\n",
    "    # Compute values that are independent of k\n",
    "    m = np.linalg.matrix_rank(Q)\n",
    "    lambdas, deltas = compute_lambdas_deltas(mux, Sigma, Q)\n",
    "    beta = 0.99 * min(lambdas) # Beta can be any value between 0 and the minimum of the lambdas\n",
    "    h_tilde = m # In the paper, h_tilde is the sum of h_i for i = 1,...,m but h_i = 1?\n",
    "    gammas = [1 -  beta/lam for lam in lambdas]\n",
    "    d = np.prod([(beta/lam)**0.5 for lam in lambdas])\n",
    "    e = sum(deltas)\n",
    "\n",
    "    # The ith row (by index) of this matrix contains gammas raised to the ith\n",
    "    gammas_powers = power_matrix(gammas, kmax)\n",
    "    gks = [compute_gk(gammas_powers[1], gammas_powers[k], gammas_powers[k - 1], deltas, k) for k in range(kmax + 1)]\n",
    "    c0 = d * math.exp(-0.5 * e)\n",
    "    cks = [c0] # c0 has a different formula than ck for k > 0\n",
    "    update_ck(cks, gks, kmax)\n",
    "    return cks"
   ]
  },
  {
   "cell_type": "code",
   "execution_count": 167,
   "metadata": {},
   "outputs": [],
   "source": [
    "Q = random_psd_matrix(3)\n",
    "Sigma = random_psd_matrix(3)\n",
    "mux = np.ones((3, 1))\n",
    "kmax = 1500"
   ]
  },
  {
   "cell_type": "code",
   "execution_count": 168,
   "metadata": {},
   "outputs": [
    {
     "name": "stdout",
     "output_type": "stream",
     "text": [
      "0.24510643732632473\n"
     ]
    }
   ],
   "source": [
    "cks = compute_series_coefficients(mux, Sigma, Q, kmax)\n",
    "print(sum(cks))"
   ]
  },
  {
   "cell_type": "code",
   "execution_count": null,
   "metadata": {},
   "outputs": [],
   "source": []
  }
 ],
 "metadata": {
  "kernelspec": {
   "display_name": "Python 2",
   "language": "python",
   "name": "python2"
  },
  "language_info": {
   "codemirror_mode": {
    "name": "ipython",
    "version": 3
   },
   "file_extension": ".py",
   "mimetype": "text/x-python",
   "name": "python",
   "nbconvert_exporter": "python",
   "pygments_lexer": "ipython3",
   "version": "3.6.8"
  }
 },
 "nbformat": 4,
 "nbformat_minor": 2
}
