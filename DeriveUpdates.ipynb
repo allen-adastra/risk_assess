{
 "cells": [
  {
   "cell_type": "markdown",
   "metadata": {},
   "source": [
    "The general idea is to "
   ]
  },
  {
   "cell_type": "code",
   "execution_count": 7,
   "metadata": {
    "scrolled": true
   },
   "outputs": [
    {
     "name": "stdout",
     "output_type": "stream",
     "text": [
      "v_{t}^{2} \\sin{\\left(\\theta_{t} \\right)} \\cos{\\left(\\theta_{t} \\right)} + v_{t} x_{t} \\sin{\\left(\\theta_{t} \\right)} + v_{t} y_{t} \\cos{\\left(\\theta_{t} \\right)} + x_{t} y_{t}\n",
      "Bad Terms:\n",
      "[x_t, y_t]\n",
      "[x_t, v_t, sin(theta_t)]\n",
      "[y_t, v_t, cos(theta_t)]\n"
     ]
    }
   ],
   "source": [
    "import sympy as sp\n",
    "sp.init_printing()\n",
    "\n",
    "def check_bad_terms(polynomial, polynomial_variables, bad_var_pairs):\n",
    "    print(\"Bad Terms:\")\n",
    "    for pair in bad_var_pairs:\n",
    "        for mono in polynomial.monoms():\n",
    "            if mono[pair[0]] != 0 and mono[pair[1]] != 0:\n",
    "                idx = [i for i, x in enumerate(list(mono)) if x == 1]\n",
    "                relevant_vars = [polynomial_variables[i] for i in idx]\n",
    "                print(relevant_vars)\n",
    "\n",
    "# Declare variables at time \"t\"\n",
    "xt = sp.Symbol(\"x_t\")\n",
    "yt = sp.Symbol(\"y_t\")\n",
    "vt = sp.Symbol(\"v_t\")\n",
    "wvt = sp.Symbol(\"w_{v_t}\")\n",
    "wthetat = sp.Symbol(\"w_{theta_t}\")\n",
    "thetat = sp.Symbol(\"theta_t\")\n",
    "cos_thetat = sp.cos(thetat)\n",
    "sin_thetat = sp.sin(thetat)\n",
    "sin_thetatplus1 = sp.sin(thetat + wthetat)\n",
    "cos_thetatplus1 = sp.cos(thetat + wthetat)\n",
    "sin_thetat = sp.sin(thetat)\n",
    "cos_thetat = sp.cos(thetat)\n",
    "sin_wthetat = sp.sin(wthetat)\n",
    "cos_wthetat = sp.cos(wthetat)\n",
    "\n",
    "# Create a list of variables at time \"t\"\n",
    "polynomial_variables = [xt, yt, vt, sin_thetat, cos_thetat, sin_wthetat, cos_wthetat]\n",
    "\n",
    "# Create tuples of variables that should not appear together in a term\n",
    "# e.g. (0, 1) means we should not have a term like xt * yt\n",
    "bad_var_pairs = [(0, 1), (0, 2), (1, 2)]\n",
    "\n",
    "# Symbolic expressions for x_{t+1} and y_{t+1} in terms of variables at time t\n",
    "xtplus1 = xt + vt * cos_thetat\n",
    "ytplus1 = yt + vt * sin_thetat\n",
    "\n",
    "\n",
    "# Construct the expression for E[x_{t+1} * y_{t+1}]\n",
    "# in terms of expressions at time t\n",
    "cross = sp.poly(xtplus1 * ytplus1, polynomial_variables)\n",
    "print(sp.latex(cross.as_expr()))\n",
    "check_bad_terms(cross, polynomial_variables, bad_var_pairs)\n",
    "\n",
    "\n",
    "# xtplus1_sq = sp.poly(xtplus1**2, polynomial_variables)\n",
    "# print(\"xtplus1_sq: \")\n",
    "# print(sp.latex(xtplus1_sq.as_expr()))\n",
    "\n",
    "# ytplus1_sq = sp.poly(ytplus1**2, polynomial_variables)\n",
    "# print(\"ytplus1_sq: \")\n",
    "# print(sp.latex(ytplus1_sq.as_expr()))\n",
    "\n",
    "# # Express the update relation for E[x_t * y_t]\n",
    "# cross = sp.poly(xtplus1 * ytplus1, polynomial_variables)\n",
    "# print(\"Cross Moment: \")\n",
    "# print(sp.latex(cross.as_expr()))\n",
    "\n",
    "# Express the update relation for E[x_t * v_t * sin(theta_t)]\n",
    "xvsin = sp.poly(xtplus1 * (vt + wvt) * sp.expand_trig(sin_thetatplus1), polynomial_variables)\n",
    "print(\"\\n xt * vt * sin(theta_t): \")\n",
    "print(sp.latex(xvsin.as_expr()))\n",
    "\n",
    "# xvcos = sp.poly(xtplus1 * (vt + wvt) * sp.expand_trig(cos_thetatplus1), polynomial_variables)\n",
    "# print(\"\\n xt * vt * cos(theta_t): \")\n",
    "# print(sp.latex(xvcos.as_expr()))\n",
    "\n",
    "# # Express the update relation for E[y_t * v_t * cos(theta_t)]\n",
    "# yvcos = sp.poly(ytplus1 * (vt + wvt) * sp.expand_trig(cos_thetatplus1), polynomial_variables)\n",
    "# print(\"\\n yt * vt * cos(theta_t)\")\n",
    "# print(sp.latex(yvcos.as_expr()))\n",
    "\n",
    "# yvsin = sp.poly(ytplus1 * (vt + wvt) * sp.expand_trig(sin_thetatplus1), polynomial_variables)\n",
    "# print(\"\\n yt * vt * sin(theta_t)\")\n",
    "# print(sp.latex(yvsin.as_expr()))"
   ]
  },
  {
   "cell_type": "markdown",
   "metadata": {},
   "source": [
    "Detect when the \"invalid pair\" is the term we are updating\n",
    "We need to dynamically change the list of bad_var_pairs as we derive new update relations (maybe we should explicitly keep track of the update relations that we actually have instead)...."
   ]
  },
  {
   "cell_type": "code",
   "execution_count": 34,
   "metadata": {},
   "outputs": [
    {
     "name": "stdout",
     "output_type": "stream",
     "text": [
      "[x_t, y_t]\n"
     ]
    }
   ],
   "source": []
  },
  {
   "cell_type": "code",
   "execution_count": null,
   "metadata": {},
   "outputs": [],
   "source": []
  }
 ],
 "metadata": {
  "kernelspec": {
   "display_name": "Python 3",
   "language": "python",
   "name": "python3"
  },
  "language_info": {
   "codemirror_mode": {
    "name": "ipython",
    "version": 3
   },
   "file_extension": ".py",
   "mimetype": "text/x-python",
   "name": "python",
   "nbconvert_exporter": "python",
   "pygments_lexer": "ipython3",
   "version": "3.7.4"
  }
 },
 "nbformat": 4,
 "nbformat_minor": 2
}
