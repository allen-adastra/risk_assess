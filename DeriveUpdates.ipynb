{
 "cells": [
  {
   "cell_type": "markdown",
   "metadata": {},
   "source": [
    "Can we actually efficiently compute moments of the form E[cos(theta_t)^m sin(theta_t)^n]?"
   ]
  },
  {
   "cell_type": "code",
<<<<<<< HEAD
   "execution_count": 4,
=======
   "execution_count": 13,
>>>>>>> 9be78b4... deriv updates simprovements
   "metadata": {},
   "outputs": [
    {
     "name": "stdout",
     "output_type": "stream",
     "text": [
      "xtplus1_sq: \n",
      "v_{t}^{2} \\cos^{2}{\\left(\\theta_{t} \\right)} + 2 v_{t} x_{t} \\cos{\\left(\\theta_{t} \\right)} + x_{t}^{2}\n",
      "ytplus1_sq: \n",
      "v_{t}^{2} \\sin^{2}{\\left(\\theta_{t} \\right)} + 2 v_{t} y_{t} \\sin{\\left(\\theta_{t} \\right)} + y_{t}^{2}\n",
      "Cross Moment: \n",
      "v_{t}^{2} \\sin{\\left(\\theta_{t} \\right)} \\cos{\\left(\\theta_{t} \\right)} + v_{t} x_{t} \\sin{\\left(\\theta_{t} \\right)} + v_{t} y_{t} \\cos{\\left(\\theta_{t} \\right)} + x_{t} y_{t}\n",
      "\n",
      " xt * vt * sin(theta_t): \n",
      "v_{t}^{2} \\sin{\\left(\\theta_{t} \\right)} \\cos{\\left(\\theta_{t} \\right)} \\cos{\\left(w_{theta_t} \\right)} + v_{t}^{2} \\sin{\\left(w_{theta_t} \\right)} \\cos^{2}{\\left(\\theta_{t} \\right)} + v_{t} w_{v_t} \\sin{\\left(\\theta_{t} \\right)} \\cos{\\left(\\theta_{t} \\right)} \\cos{\\left(w_{theta_t} \\right)} + v_{t} w_{v_t} \\sin{\\left(w_{theta_t} \\right)} \\cos^{2}{\\left(\\theta_{t} \\right)} + v_{t} x_{t} \\sin{\\left(\\theta_{t} \\right)} \\cos{\\left(w_{theta_t} \\right)} + v_{t} x_{t} \\sin{\\left(w_{theta_t} \\right)} \\cos{\\left(\\theta_{t} \\right)} + w_{v_t} x_{t} \\sin{\\left(\\theta_{t} \\right)} \\cos{\\left(w_{theta_t} \\right)} + w_{v_t} x_{t} \\sin{\\left(w_{theta_t} \\right)} \\cos{\\left(\\theta_{t} \\right)}\n",
      "\n",
      " xt * vt * cos(theta_t): \n",
      "- v_{t}^{2} \\sin{\\left(\\theta_{t} \\right)} \\sin{\\left(w_{theta_t} \\right)} \\cos{\\left(\\theta_{t} \\right)} + v_{t}^{2} \\cos^{2}{\\left(\\theta_{t} \\right)} \\cos{\\left(w_{theta_t} \\right)} - v_{t} w_{v_t} \\sin{\\left(\\theta_{t} \\right)} \\sin{\\left(w_{theta_t} \\right)} \\cos{\\left(\\theta_{t} \\right)} + v_{t} w_{v_t} \\cos^{2}{\\left(\\theta_{t} \\right)} \\cos{\\left(w_{theta_t} \\right)} - v_{t} x_{t} \\sin{\\left(\\theta_{t} \\right)} \\sin{\\left(w_{theta_t} \\right)} + v_{t} x_{t} \\cos{\\left(\\theta_{t} \\right)} \\cos{\\left(w_{theta_t} \\right)} - w_{v_t} x_{t} \\sin{\\left(\\theta_{t} \\right)} \\sin{\\left(w_{theta_t} \\right)} + w_{v_t} x_{t} \\cos{\\left(\\theta_{t} \\right)} \\cos{\\left(w_{theta_t} \\right)}\n",
      "\n",
      " yt * vt * cos(theta_t)\n",
      "- v_{t}^{2} \\sin^{2}{\\left(\\theta_{t} \\right)} \\sin{\\left(w_{theta_t} \\right)} + v_{t}^{2} \\sin{\\left(\\theta_{t} \\right)} \\cos{\\left(\\theta_{t} \\right)} \\cos{\\left(w_{theta_t} \\right)} - v_{t} w_{v_t} \\sin^{2}{\\left(\\theta_{t} \\right)} \\sin{\\left(w_{theta_t} \\right)} + v_{t} w_{v_t} \\sin{\\left(\\theta_{t} \\right)} \\cos{\\left(\\theta_{t} \\right)} \\cos{\\left(w_{theta_t} \\right)} - v_{t} y_{t} \\sin{\\left(\\theta_{t} \\right)} \\sin{\\left(w_{theta_t} \\right)} + v_{t} y_{t} \\cos{\\left(\\theta_{t} \\right)} \\cos{\\left(w_{theta_t} \\right)} - w_{v_t} y_{t} \\sin{\\left(\\theta_{t} \\right)} \\sin{\\left(w_{theta_t} \\right)} + w_{v_t} y_{t} \\cos{\\left(\\theta_{t} \\right)} \\cos{\\left(w_{theta_t} \\right)}\n",
      "\n",
      " yt * vt * sin(theta_t)\n",
      "v_{t}^{2} \\sin^{2}{\\left(\\theta_{t} \\right)} \\cos{\\left(w_{theta_t} \\right)} + v_{t}^{2} \\sin{\\left(\\theta_{t} \\right)} \\sin{\\left(w_{theta_t} \\right)} \\cos{\\left(\\theta_{t} \\right)} + v_{t} w_{v_t} \\sin^{2}{\\left(\\theta_{t} \\right)} \\cos{\\left(w_{theta_t} \\right)} + v_{t} w_{v_t} \\sin{\\left(\\theta_{t} \\right)} \\sin{\\left(w_{theta_t} \\right)} \\cos{\\left(\\theta_{t} \\right)} + v_{t} y_{t} \\sin{\\left(\\theta_{t} \\right)} \\cos{\\left(w_{theta_t} \\right)} + v_{t} y_{t} \\sin{\\left(w_{theta_t} \\right)} \\cos{\\left(\\theta_{t} \\right)} + w_{v_t} y_{t} \\sin{\\left(\\theta_{t} \\right)} \\cos{\\left(w_{theta_t} \\right)} + w_{v_t} y_{t} \\sin{\\left(w_{theta_t} \\right)} \\cos{\\left(\\theta_{t} \\right)}\n",
      "\n",
      " x_t * sin(theta_t): \n",
      "v_{t} \\sin{\\left(\\theta_{t} \\right)} \\cos{\\left(\\theta_{t} \\right)} \\cos{\\left(w_{theta_t} \\right)} + v_{t} \\sin{\\left(w_{theta_t} \\right)} \\cos^{2}{\\left(\\theta_{t} \\right)} + x_{t} \\sin{\\left(\\theta_{t} \\right)} \\cos{\\left(w_{theta_t} \\right)} + x_{t} \\sin{\\left(w_{theta_t} \\right)} \\cos{\\left(\\theta_{t} \\right)}\n",
      "\n",
      " x_t * cos(theta_t): \n",
      "- v_{t} \\sin{\\left(\\theta_{t} \\right)} \\sin{\\left(w_{theta_t} \\right)} \\cos{\\left(\\theta_{t} \\right)} + v_{t} \\cos^{2}{\\left(\\theta_{t} \\right)} \\cos{\\left(w_{theta_t} \\right)} - x_{t} \\sin{\\left(\\theta_{t} \\right)} \\sin{\\left(w_{theta_t} \\right)} + x_{t} \\cos{\\left(\\theta_{t} \\right)} \\cos{\\left(w_{theta_t} \\right)}\n",
      "\n",
      " y_t * sin(theta_t): \n",
      "v_{t} \\sin^{2}{\\left(\\theta_{t} \\right)} \\cos{\\left(w_{theta_t} \\right)} + v_{t} \\sin{\\left(\\theta_{t} \\right)} \\sin{\\left(w_{theta_t} \\right)} \\cos{\\left(\\theta_{t} \\right)} + y_{t} \\sin{\\left(\\theta_{t} \\right)} \\cos{\\left(w_{theta_t} \\right)} + y_{t} \\sin{\\left(w_{theta_t} \\right)} \\cos{\\left(\\theta_{t} \\right)}\n",
      "\n",
      " y_t * cos(theta_t): \n",
      "- v_{t} \\sin^{2}{\\left(\\theta_{t} \\right)} \\sin{\\left(w_{theta_t} \\right)} + v_{t} \\sin{\\left(\\theta_{t} \\right)} \\cos{\\left(\\theta_{t} \\right)} \\cos{\\left(w_{theta_t} \\right)} - y_{t} \\sin{\\left(\\theta_{t} \\right)} \\sin{\\left(w_{theta_t} \\right)} + y_{t} \\cos{\\left(\\theta_{t} \\right)} \\cos{\\left(w_{theta_t} \\right)}\n",
      "[y_t, v_t, sin(theta_t), cos(w_{theta_t})]\n",
      "[y_t, v_t, cos(theta_t), sin(w_{theta_t})]\n"
     ]
    }
   ],
   "source": [
    "import sympy as sp\n",
    "sp.init_printing()\n",
    "\n",
    "def check_bad_terms(polynomial, polynomial_variables, bad_var_pairs):\n",
    "    for pair in bad_var_pairs:\n",
    "        for mono in polynomial.monoms():\n",
    "            if mono[pair[0]] != 0 and mono[pair[1]] != 0:\n",
    "                idx = [i for i, x in enumerate(list(mono)) if x == 1]\n",
    "                relevant_vars = [polynomial_variables[i] for i in idx]\n",
    "                print(relevant_vars)\n",
    "\n",
    "# General idea:\n",
    "# Express moments we want at time t + 1 in terms of moments at time t\n",
    "# Store variables that should not be together in terms\n",
    "# If two variables shouldn't be together, we need to decompose the expression further\n",
    "xt = sp.Symbol(\"x_t\")\n",
    "yt = sp.Symbol(\"y_t\")\n",
    "vt = sp.Symbol(\"v_t\")\n",
    "wvt = sp.Symbol(\"w_{v_t}\")\n",
    "wthetat = sp.Symbol(\"w_{theta_t}\")\n",
    "thetat = sp.Symbol(\"theta_t\")\n",
    "cos_thetat = sp.cos(thetat)\n",
    "sin_thetat = sp.sin(thetat)\n",
    "sin_thetatplus1 = sp.sin(thetat + wthetat)\n",
    "cos_thetatplus1 = sp.cos(thetat + wthetat)\n",
    "sin_thetat = sp.sin(thetat)\n",
    "cos_thetat = sp.cos(thetat)\n",
    "sin_wthetat = sp.sin(wthetat)\n",
    "cos_wthetat = sp.cos(wthetat)\n",
    "\n",
    "polynomial_variables = [xt, yt, vt, sin_thetat, cos_thetat, sin_wthetat, cos_wthetat]\n",
    "bad_var_pairs = [(0, 1), (0, 2), (1, 2)]\n",
    "\n",
    "xtplus1 = xt + vt * cos_thetat\n",
    "ytplus1 = yt + vt * sin_thetat\n",
    "\n",
    "xtplus1_sq = sp.poly(xtplus1**2, polynomial_variables)\n",
    "print(\"xtplus1_sq: \")\n",
    "print(sp.latex(xtplus1_sq.as_expr()))\n",
    "\n",
    "ytplus1_sq = sp.poly(ytplus1**2, polynomial_variables)\n",
    "print(\"ytplus1_sq: \")\n",
    "print(sp.latex(ytplus1_sq.as_expr()))\n",
    "\n",
    "# Express the update relation for E[x_t * y_t]\n",
    "cross = sp.poly(xtplus1 * ytplus1, polynomial_variables)\n",
    "print(\"Cross Moment: \")\n",
    "print(sp.latex(cross.as_expr()))\n",
    "\n",
    "# Express the update relation for E[x_t * v_t * sin(theta_t)]\n",
    "xvsin = sp.poly(xtplus1 * (vt + wvt) * sp.expand_trig(sin_thetatplus1), polynomial_variables)\n",
    "print(\"\\n xt * vt * sin(theta_t): \")\n",
    "print(sp.latex(xvsin.as_expr()))\n",
    "\n",
    "xvcos = sp.poly(xtplus1 * (vt + wvt) * sp.expand_trig(cos_thetatplus1), polynomial_variables)\n",
    "print(\"\\n xt * vt * cos(theta_t): \")\n",
    "print(sp.latex(xvcos.as_expr()))\n",
    "\n",
    "# Express the update relation for E[y_t * v_t * cos(theta_t)]\n",
    "yvcos = sp.poly(ytplus1 * (vt + wvt) * sp.expand_trig(cos_thetatplus1), polynomial_variables)\n",
    "print(\"\\n yt * vt * cos(theta_t)\")\n",
    "print(sp.latex(yvcos.as_expr()))\n",
    "\n",
    "yvsin = sp.poly(ytplus1 * (vt + wvt) * sp.expand_trig(sin_thetatplus1), polynomial_variables)\n",
    "print(\"\\n yt * vt * sin(theta_t)\")\n",
    "print(sp.latex(yvsin.as_expr()))\n",
    "\n",
<<<<<<< HEAD
    "xsin = sp.poly(xtplus1 * sp.expand_trig(sin_thetatplus1), t_variables)\n",
    "print(\"\\n x_t * sin(theta_t): \")\n",
    "print(sp.latex(xsin.as_expr()))\n",
    "\n",
    "xcos = sp.poly(xtplus1 * sp.expand_trig(cos_thetatplus1), t_variables)\n",
    "print(\"\\n x_t * cos(theta_t): \")\n",
    "print(sp.latex(xcos.as_expr()))\n",
    "\n",
    "ysin = sp.poly(ytplus1 * sp.expand_trig(sin_thetatplus1), t_variables)\n",
    "print(\"\\n y_t * sin(theta_t): \")\n",
    "print(sp.latex(ysin.as_expr()))\n",
    "\n",
    "ycos = sp.poly(ytplus1 * sp.expand_trig(cos_thetatplus1), t_variables)\n",
    "print(\"\\n y_t * cos(theta_t): \")\n",
    "print(sp.latex(ycos.as_expr()))\n",
    "\n",
    "\n",
    "\n",
    "bad_var_pairs = [(0, 1), (0, 2), (1, 2)]\n",
    "for pair in bad_var_pairs:\n",
    "    for mono in yvsin.monoms():\n",
    "        if mono[pair[0]] != 0 and mono[pair[1]] != 0:\n",
    "            idx = [i for i, x in enumerate(list(mono)) if x == 1]\n",
    "            relevant_vars = [t_variables[i] for i in idx]\n",
    "            print(relevant_vars)"
=======
    "check_bad_terms(yvsin, polynomial_variables, bad_var_pairs)"
>>>>>>> 9be78b4... deriv updates simprovements
   ]
  },
  {
   "cell_type": "markdown",
   "metadata": {},
   "source": [
    "Detect when the \"invalid pair\" is the term we are updating\n",
    "We need to dynamically change the list of bad_var_pairs as we derive new update relations (maybe we should explicitly keep track of the update relations that we actually have instead)...."
   ]
  },
  {
   "cell_type": "code",
   "execution_count": 34,
   "metadata": {},
   "outputs": [
    {
     "name": "stdout",
     "output_type": "stream",
     "text": [
      "[x_t, y_t]\n"
     ]
    }
   ],
   "source": [
    "import numpy as np\n",
    "x = (1, 1, 0, 0, 0, 0, 0)\n"
   ]
  },
  {
   "cell_type": "code",
   "execution_count": null,
   "metadata": {},
   "outputs": [],
   "source": []
  }
 ],
 "metadata": {
  "kernelspec": {
   "display_name": "Python 3",
   "language": "python",
   "name": "python3"
  },
  "language_info": {
   "codemirror_mode": {
    "name": "ipython",
    "version": 3
   },
   "file_extension": ".py",
   "mimetype": "text/x-python",
   "name": "python",
   "nbconvert_exporter": "python",
   "pygments_lexer": "ipython3",
   "version": "3.6.8"
  }
 },
 "nbformat": 4,
 "nbformat_minor": 2
}
