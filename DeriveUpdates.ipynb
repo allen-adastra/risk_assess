{
 "cells": [
  {
   "cell_type": "code",
   "execution_count": 17,
   "metadata": {},
   "outputs": [
    {
     "name": "stdout",
     "output_type": "stream",
     "text": [
      "[1, 1, 1, 1]\n"
     ]
    }
   ],
   "source": [
    "import sympy as sp\n",
    "\n",
    "xt = sp.Symbol(\"x_t\")\n",
    "yt = sp.Symbol(\"y_t\")\n",
    "vt = sp.Symbol(\"v_t\")\n",
    "wvt = sp.Symbol(\"w_{v_t}\")\n",
    "thetat = sp.Symbol(\"theta_t\")\n",
    "cos_thetat = sp.cos(thetat)\n",
    "sin_thetat = sp.sin(thetat)\n",
    "\n",
    "t_variables = [xt, yt, vt, cos_thetat, sin_thetat]\n",
    "\n",
    "xtplus1 = xt + vt * cos_thetat\n",
    "ytplus1 = yt + vt * sin_thetat\n",
    "\n",
    "p = sp.poly(xtplus1 * ytplus1, t_variables)\n",
    "\n",
    "print(p.coeffs())\n",
    "\n",
    "# # 0: x0\n",
    "# # 1: y0\n",
    "# # 2: v0\n",
    "# # 3: wv0\n",
    "# # 4: cos(theta0)\n",
    "# # 5: sin(theta0)\n",
    "# dependent_pairs = [\n",
    "#     (0, 1), (0, 2), (1,2), (0, 4), ()\n",
    "# ]\n"
   ]
  },
  {
   "cell_type": "code",
   "execution_count": null,
   "metadata": {},
   "outputs": [],
   "source": []
  }
 ],
 "metadata": {
  "kernelspec": {
   "display_name": "Python 3",
   "language": "python",
   "name": "python3"
  },
  "language_info": {
   "codemirror_mode": {
    "name": "ipython",
    "version": 3
   },
   "file_extension": ".py",
   "mimetype": "text/x-python",
   "name": "python",
   "nbconvert_exporter": "python",
   "pygments_lexer": "ipython3",
   "version": "3.7.4"
  }
 },
 "nbformat": 4,
 "nbformat_minor": 2
}
