{
 "cells": [
  {
   "cell_type": "code",
   "execution_count": 1,
   "metadata": {},
   "outputs": [
    {
     "data": {
      "text/latex": [
       "$\\displaystyle \\operatorname{Poly}{\\left( x_{0}y_{0} + x_{0}v_{0}sin_{theta0} + x_{0}w_{v_0}sin_{theta0} + y_{0}v_{0}cos_{theta0} + y_{0}w_{v_0}cos_{theta0} + v_{0}^{2}cos_{theta0}sin_{theta0} + 2 v_{0}w_{v_0}cos_{theta0}sin_{theta0} + w_{v_0}^{2}cos_{theta0}sin_{theta0}, x_{0}, y_{0}, v_{0}, w_{v_0}, cos_{theta0}, sin_{theta0}, domain=\\mathbb{Z} \\right)}$"
      ],
      "text/plain": [
       "Poly(x0*y0 + x0*v0*sin_theta0 + x0*w_{v_0}*sin_theta0 + y0*v0*cos_theta0 + y0*w_{v_0}*cos_theta0 + v0**2*cos_theta0*sin_theta0 + 2*v0*w_{v_0}*cos_theta0*sin_theta0 + w_{v_0}**2*cos_theta0*sin_theta0, x0, y0, v0, w_{v_0}, cos_theta0, sin_theta0, domain='ZZ')"
      ]
     },
     "execution_count": 1,
     "metadata": {},
     "output_type": "execute_result"
    }
   ],
   "source": [
    "import sympy as sp\n",
    "\n",
    "x0 = sp.Symbol(\"x0\")\n",
    "y0 = sp.Symbol(\"y0\")\n",
    "v0 = sp.Symbol(\"v0\")\n",
    "wv0 = sp.Symbol(\"w_{v_0}\")\n",
    "cos_theta0 = sp.Symbol(\"cos_theta0\")\n",
    "sin_theta0 = sp.Symbol(\"sin_theta0\")\n",
    "\n",
    "x1 = x0 + (v0 + wv0) * cos_theta0\n",
    "y1 = y0 + (v0 + wv0) * sin_theta0\n",
    "\n",
    "t0_variables = [x0, y0, v0, wv0, cos_theta0, sin_theta0]\n",
    "sp.poly(x1 * y1, t0_variables)\n",
    "sp.poly(x1 * (v0 + wv0), t0_variables)"
   ]
  },
  {
   "cell_type": "code",
   "execution_count": null,
   "metadata": {},
   "outputs": [],
   "source": []
  }
 ],
 "metadata": {
  "kernelspec": {
   "display_name": "Python 3",
   "language": "python",
   "name": "python3"
  },
  "language_info": {
   "codemirror_mode": {
    "name": "ipython",
    "version": 3
   },
   "file_extension": ".py",
   "mimetype": "text/x-python",
   "name": "python",
   "nbconvert_exporter": "python",
   "pygments_lexer": "ipython3",
   "version": "3.7.4"
  }
 },
 "nbformat": 4,
 "nbformat_minor": 2
}
