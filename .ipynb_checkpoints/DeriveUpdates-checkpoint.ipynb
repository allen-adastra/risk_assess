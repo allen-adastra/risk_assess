{
 "cells": [
  {
   "cell_type": "code",
   "execution_count": 31,
   "metadata": {},
   "outputs": [
    {
     "name": "stdout",
     "output_type": "stream",
     "text": [
      "Cross Moment: \n",
      "Poly(x_t*y_t + x_t*v_t*(sin(theta_t)) + y_t*v_t*(cos(theta_t)) + v_t**2*(cos(theta_t))*(sin(theta_t)), x_t, y_t, v_t, cos(theta_t), sin(theta_t), domain='ZZ')\n",
      "xt * vt * sin(theta_t)\n",
      "Poly((cos(theta_t))**2*(sin(w_{theta_t}))*v_t**2 + (cos(theta_t))**2*(sin(w_{theta_t}))*v_t*w_{v_t} + (cos(theta_t))*(cos(w_{theta_t}))*(sin(theta_t))*v_t**2 + (cos(theta_t))*(cos(w_{theta_t}))*(sin(theta_t))*v_t*w_{v_t} + (cos(theta_t))*(sin(w_{theta_t}))*v_t*x_t + (cos(theta_t))*(sin(w_{theta_t}))*w_{v_t}*x_t + (cos(w_{theta_t}))*(sin(theta_t))*v_t*x_t + (cos(w_{theta_t}))*(sin(theta_t))*w_{v_t}*x_t, cos(theta_t), cos(w_{theta_t}), sin(theta_t), sin(w_{theta_t}), v_t, w_{v_t}, x_t, domain='ZZ')\n"
     ]
    }
   ],
   "source": [
    "import sympy as sp\n",
    "\n",
    "\n",
    "# General idea:\n",
    "# Express moments we want at time t + 1 in terms of moments at time t\n",
    "# Store variables that should not be together in terms\n",
    "# If two variables shouldn't be together, we need to decompose the expression further\n",
    "xt = sp.Symbol(\"x_t\")\n",
    "yt = sp.Symbol(\"y_t\")\n",
    "vt = sp.Symbol(\"v_t\")\n",
    "wvt = sp.Symbol(\"w_{v_t}\")\n",
    "wthetat = sp.Symbol(\"w_{theta_t}\")\n",
    "thetat = sp.Symbol(\"theta_t\")\n",
    "cos_thetat = sp.cos(thetat)\n",
    "sin_thetat = sp.sin(thetat)\n",
    "sin_thetatplus1 = sp.sin(thetat + wthetat)\n",
    "cos_thetatplus1 = sp.cos(thetat + wthetat)\n",
    "\n",
    "t_variables = [xt, yt, vt, cos_thetat, sin_thetat]\n",
    "\n",
    "xtplus1 = xt + vt * cos_thetat\n",
    "ytplus1 = yt + vt * sin_thetat\n",
    "\n",
    "# Express the update relation for E[x_t * y_t]\n",
    "cross = sp.poly(xtplus1 * ytplus1, t_variables)\n",
    "print(\"Cross Moment: \")\n",
    "print(cross)\n",
    "\n",
    "# Express the update relation for E[x_t * v_t * sin(theta_t)]\n",
    "xvsin = sp.poly(xtplus1 * (vt + wvt) * sp.expand_trig(sin_thetatplus1))\n",
    "print(\"xt * vt * sin(theta_t): \")\n",
    "print(xvsin)\n",
    "\n",
    "# Express the update relation for E[y_t * v_t * cos(theta_t)]\n",
    "yvcos = sp.poly(ytplus1 * (vt + wvt) * sp.expand_trig(cos_thetatplus1))\n",
    "\n",
    "# Express the update relation for E[x_tcos(theta_t)]\n",
    "xcos = sp.poly(xtplus1 * sp.expand_trig(cos_thetatplus1))\n",
    "\n",
    "# # 0: x0\n",
    "# # 1: y0\n",
    "# # 2: v0\n",
    "# # 3: wv0\n",
    "# # 4: cos(theta0)\n",
    "# # 5: sin(theta0)\n",
    "# dependent_pairs = [\n",
    "#     (0, 1), (0, 2), (1,2), (0, 4), ()\n",
    "# ]\n"
   ]
  },
  {
   "cell_type": "code",
   "execution_count": 19,
   "metadata": {},
   "outputs": [
    {
     "data": {
      "text/latex": [
       "$\\displaystyle \\sin{\\left(\\theta_{t} \\right)} \\cos{\\left(w_{theta_t} \\right)} + \\sin{\\left(w_{theta_t} \\right)} \\cos{\\left(\\theta_{t} \\right)}$"
      ],
      "text/plain": [
       "sin(theta_t)*cos(w_{theta_t}) + sin(w_{theta_t})*cos(theta_t)"
      ]
     },
     "execution_count": 19,
     "metadata": {},
     "output_type": "execute_result"
    }
   ],
   "source": []
  },
  {
   "cell_type": "code",
   "execution_count": null,
   "metadata": {},
   "outputs": [],
   "source": []
  }
 ],
 "metadata": {
  "kernelspec": {
   "display_name": "Python 3",
   "language": "python",
   "name": "python3"
  },
  "language_info": {
   "codemirror_mode": {
    "name": "ipython",
    "version": 3
   },
   "file_extension": ".py",
   "mimetype": "text/x-python",
   "name": "python",
   "nbconvert_exporter": "python",
   "pygments_lexer": "ipython3",
   "version": "3.7.4"
  }
 },
 "nbformat": 4,
 "nbformat_minor": 2
}
