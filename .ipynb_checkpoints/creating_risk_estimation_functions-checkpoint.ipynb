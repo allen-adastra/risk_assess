{
 "cells": [
  {
   "cell_type": "code",
   "execution_count": 62,
   "metadata": {},
   "outputs": [],
   "source": [
    "import sympy as sp\n",
    "import numpy as np\n",
    "from functools import reduce\n",
    "from itertools import accumulate\n",
    "import time"
   ]
  },
  {
   "cell_type": "code",
   "execution_count": 69,
   "metadata": {},
   "outputs": [
    {
     "ename": "SyntaxError",
     "evalue": "invalid syntax (<ipython-input-69-4c13bfea40ee>, line 19)",
     "output_type": "error",
     "traceback": [
      "\u001b[0;36m  File \u001b[0;32m\"<ipython-input-69-4c13bfea40ee>\"\u001b[0;36m, line \u001b[0;32m19\u001b[0m\n\u001b[0;31m    tup_coef_map = {tup: for tup in monos}\u001b[0m\n\u001b[0m                           ^\u001b[0m\n\u001b[0;31mSyntaxError\u001b[0m\u001b[0;31m:\u001b[0m invalid syntax\n"
     ]
    }
   ],
   "source": [
    "def compute_all_thetas(theta0, utheta):\n",
    "    return theta0 + np.cumsum(utheta)\n",
    "\n",
    "def compute_all_vs(v0, accels_uncertain, dt):\n",
    "    return v0 + dt*np.cumsum(accels_uncertain)\n",
    "\n",
    "def compute_beta2_mono_moments(alpha, beta, monos):\n",
    "    max_order_needed = max([sum(list(mono)) for mono in monos])\n",
    "    #assume iid beta moments\n",
    "    beta2_moments = compute_beta2_moments(alpha,beta,max_order_needed)\n",
    "    cross_moments = [reduce(lambda prev,ni: prev*beta2_moments[ni],[1] + list(tup)) for tup in monos]\n",
    "    return cross_moments\n",
    "\n",
    "def compute_beta2_coef_mono_moments(alpha, beta, monos,coefs):\n",
    "    max_order_needed = max([sum(list(mono)) for mono in monos])\n",
    "    #assume iid beta moments\n",
    "    beta2_moments = compute_beta2_moments(alpha,beta,max_order_needed)\n",
    "    \n",
    "    tup_coef_map = {tup:tup_coef(tup, coefs) for tup in monos}\n",
    "    \n",
    "    cross_moments = [reduce(lambda prev,ni: prev*beta2_moments[ni],[1] + list(tup)) for tup in monos]\n",
    "    return cross_moments\n",
    "\n",
    "def tup_coef(tup,coefs):\n",
    "    #Tuple in format (0,0,0,2,0,0,0)\n",
    "    #coefs in format [1,1,1,1,1,1,1]\n",
    "    #Find indicies of non-zero tups\n",
    "    relevant_indices = [tup.index(i) for i in tup if i>0]\n",
    "    coef = sum([coefs[i]**tup[i] for i in relevant_indices])\n",
    "    return coef\n",
    "\n",
    "def compute_beta_moments(alpha,beta,order):\n",
    "    #Compute beta moments up to the given order\n",
    "    #the returned list indices should match the moment orders\n",
    "    #e.g. the return[i] should be the ith beta moment\n",
    "    fs = map(lambda r: (alpha + r)/(alpha + beta + r), range(order))\n",
    "    return [1] + list(accumulate(fs, lambda prev,n: prev*n))\n",
    "\n",
    "def compute_beta2_moments(alpha, beta, n):\n",
    "    beta_moments = compute_beta_moments(alpha, beta, n)\n",
    "    return [beta_moments[i]*2**i for i in range(len(beta_moments))]"
   ]
  },
  {
   "cell_type": "code",
   "execution_count": 65,
   "metadata": {},
   "outputs": [],
   "source": [
    "start_t = time.time()\n",
    "# Problem Parameters\n",
    "dt = 0.05\n",
    "\n",
    "# Initial State\n",
    "x0 = -1.5\n",
    "y0 = 0.0\n",
    "theta0 = 0.0\n",
    "v0 = 0.0\n",
    "\n",
    "#Define the polynomials\n",
    "p = lambda x,y: -2*x**2 - 4*y**2 + 3*y**4 + 2.0*x**4 - 0.1\n",
    "\n",
    "p_poly = lambda x,y: sp.poly(p(x,y))\n",
    "\n",
    "p_poly_sq = lambda x,y: p_poly(x,y)**2\n",
    "\n",
    "n_t = 5 #number of control inputs, so we will have n_t + 1 states\n",
    "\n",
    "#Initial x and y\n",
    "xc = sp.symbols('xc', real = True, constant = True)\n",
    "yc = sp.symbols('yc', real = True, constant = True)\n",
    "\n",
    "Cw = sp.symbols('Cw0:' + str(n_t-1), real = True, constant = True)\n",
    "Sw = sp.symbols('Sw0:' + str(n_t-1), real = True, constant = True)\n",
    "\n",
    "xs_final = xc + sum([Cw[i] for i in range(n_t-1)])\n",
    "ys_final = yc + sum([Sw[i] for i in range(n_t-1)])\n",
    "\n",
    "allvars = Cw + Sw\n",
    "thang = -2*xs_final**2 - 4*ys_final**2 + 3*ys_final**4 + 2.0*ys_final**4 - 0.1\n",
    "\n",
    "final_p = sp.poly(sp.expand(thang),allvars)\n",
    "final_p_sq = sp.poly(sp.expand(thang)**2,allvars)\n",
    "\n",
    "coefs_p = np.asarray(final_p.coeffs())\n",
    "monos_p = final_p.monoms()\n",
    "\n",
    "coefs_p_sq = np.asarray(final_p_sq.coeffs())\n",
    "monos_p_sq = final_p_sq.monoms()"
   ]
  },
  {
   "cell_type": "code",
   "execution_count": 66,
   "metadata": {},
   "outputs": [],
   "source": [
    "#We will can coefs with control input data and monos with moments now!\n",
    "coefs_p_lam = sp.lambdify([xc, yc], coefs_p) #now a function that accepts two lists as inputs\n",
    "coefs_p_sq_lam = sp.lambdify([xc, yc], coefs_p_sq) #now a function that accepts two lists as inputs"
   ]
  },
  {
   "cell_type": "code",
   "execution_count": 68,
   "metadata": {},
   "outputs": [
    {
     "name": "stdout",
     "output_type": "stream",
     "text": [
      "[5.0, 4.0, 3.0, 2.0, 0.0, 0.0, 0.0, 0.0]\n"
     ]
    }
   ],
   "source": [
    "start_t = time.time()\n",
    "#We can use monos_p and monos_p_sq to determine the moments we need given any uncertain vector with independent elements\n",
    "alpha = 500\n",
    "beta = 550\n",
    "\n",
    "\n",
    "#Generate simple control sequence\n",
    "ua_vals = np.ones((1,n_t)).ravel().tolist()\n",
    "cos_theta_vals = np.ones((1,n_t)).ravel().tolist()\n",
    "sin_theta_vals = np.zeros((1,n_t)).ravel().tolist()\n",
    "\n",
    "Cis = []\n",
    "Sis = []\n",
    "for i in range(n_t-1):\n",
    "    Cis.append(ua_vals[i]*sum(cos_theta_vals[i:n_t]))\n",
    "    Sis.append(ua_vals[i]*sum(sin_theta_vals[i:n_t]))\n",
    "\n",
    "mono_coefs = Cis + Sis\n",
    "\n",
    "mono_moments_p = np.asarray(compute_beta2_mono_moments(alpha, beta, monos_p)) #these moments correspond to the monos\n",
    "mono_moments_p_sq = np.asarray(compute_beta2_mono_moments(alpha, beta, monos_p_sq)) #these moments correspond to the monos\n",
    "\n",
    "\n",
    "\n",
    "\n",
    "Cwi_moments = {}\n",
    "Swi_moments = {}\n",
    "\n"
   ]
  },
  {
   "cell_type": "code",
   "execution_count": 40,
   "metadata": {},
   "outputs": [
    {
     "name": "stdout",
     "output_type": "stream",
     "text": [
      "1.0 1.0 0.0 0.0\n"
     ]
    }
   ],
   "source": [
    "\n",
    "\n",
    "print(*det)"
   ]
  },
  {
   "cell_type": "code",
   "execution_count": null,
   "metadata": {},
   "outputs": [],
   "source": []
  }
 ],
 "metadata": {
  "kernelspec": {
   "display_name": "Python 3",
   "language": "python",
   "name": "python3"
  },
  "language_info": {
   "codemirror_mode": {
    "name": "ipython",
    "version": 3
   },
   "file_extension": ".py",
   "mimetype": "text/x-python",
   "name": "python",
   "nbconvert_exporter": "python",
   "pygments_lexer": "ipython3",
   "version": "3.7.0"
  }
 },
 "nbformat": 4,
 "nbformat_minor": 2
}
